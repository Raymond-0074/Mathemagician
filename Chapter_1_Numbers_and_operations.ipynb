{
 "cells": [
  {
   "cell_type": "markdown",
   "metadata": {},
   "source": [
    "# Chapter 1: Numbers and operations"
   ]
  },
  {
   "cell_type": "markdown",
   "metadata": {},
   "source": [
    "## Part I: Order of operations (BEDMAS)\n",
    "\n",
    "Perhaps of upmost importance in maths is following the order of operations. There is no inherent law of universe saying that we need to follow this convention (i.e. the universe will not end if we follow SAMDEB instead), it is a way that all mathematicians agree upon so that they can understand each other's working out. It is entirely possible that in an alternate universe that we followed SAMDEB instead and that is perfectly fine.\n",
    "\n",
    "This should be a trivial concept to understand, but should not be overlooked. When applying BEDMAS we first look for the innermost bracket and deal with any exponentials within it. Then we deal with any division or multiplication from left to right as they occur. And finally we deal with any addition or subtraction, once again from left to right as they occur. Once the expression within that bracket has been solved, we can move out to the next set of brackets and repeat. Note that a number before a bracket without any operation is implied to be a multiplication. It also does not matter what type of bracket we use, sometimes we use different ones so that it is easier to see where each set of brackets ends.\n",
    "\n",
    "Let's now do an example. In fact let's make it a bit crazy to truly understand the beauty of it. I have tried to add comments where possible to assist you in understanding the working out and also underlined the part which we are evaluating.\n",
    "\n",
    "### Example\n",
    "$3+[4(3+2\\times \\underline{4^2}\\div 8)^3-\\sqrt{4}\\times 3]\\div 2$: first deal with exponent in the inner most bracket \\\n",
    "$=3+[4(3+\\underline{2\\times 16}\\div 8)^3-\\sqrt{4}\\times 3]\\div 2$: perform division and multiplication from left to right \\\n",
    "$=3+[4(3+32\\div 8)^3-\\sqrt{4}\\times 3]\\div 2$ \\\n",
    "$=3+[4(3+4)^3-\\sqrt{4}\\times 3]\\div 2$ \\\n",
    "$=3+[4(7)^3-\\sqrt{4}\\times 3]\\div 2$: we only cube the value inside the bracket,nothing else \\\n",
    "$=3+[4\\times 343-\\sqrt{4}\\times 3]\\div 2$: recall that there is a multiplication between the 4 and the bracket \\\n",
    "$=3+[4\\times 343 -2\\times 3]\\div 2$: square roots are treated like exponentials \\\n",
    "$=3+[1372-2\\times 3]\\div 2$ \\\n",
    "$=3+[1372-6]\\div 2$ \\\n",
    "$=3+[1366]\\div 2$ \\\n",
    "$=3+683$ \\\n",
    "$=686$"
   ]
  },
  {
   "cell_type": "markdown",
   "metadata": {},
   "source": [
    "## Part II: Fractions\n",
    "\n",
    "Hopefully you should already be familiar with the concept of a fraction written in the form $\\frac{numerator}{denominator}$. In fact, fractions can also be thought of as division with the numerator being the dividend and the denominator being the divisor.\n",
    "\n",
    "We begin our discussion of fractions by talking about multiplying them, which is perhaps the simplest operation. When multiplying fractions we simply multiply the numerators together and the denominators together. If possible, simplify before multiplying, but doing it afterwards is also fine.\n",
    "\n",
    "$\\frac{3}{4}\\times \\frac{8}{5} \\times \\frac{3}{10}$ \\\n",
    "$=\\frac{3\\times 8 \\times 3}{4\\times 5 \\times 10}$: multiply numerators together and denominators together\\\n",
    "$=\\frac{72}{200}$: perform simplification, it's OK to use multiple steps \\\n",
    "$=\\frac{36}{100}$ \\\n",
    "$=\\frac{18}{50}$ \\\n",
    "$=\\frac{9}{25}$"
   ]
  }
 ],
 "metadata": {
  "kernelspec": {
   "display_name": "Python 3.11.1 64-bit",
   "language": "python",
   "name": "python3"
  },
  "language_info": {
   "name": "python",
   "version": "3.11.1"
  },
  "orig_nbformat": 4,
  "vscode": {
   "interpreter": {
    "hash": "50960f54838e9640ad01c2a0595617c9fe7774187d8f22105a75178c14caeec3"
   }
  }
 },
 "nbformat": 4,
 "nbformat_minor": 2
}
