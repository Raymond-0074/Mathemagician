{
 "cells": [
  {
   "cell_type": "markdown",
   "metadata": {},
   "source": [
    "# Chapter 1: Numbers and operations"
   ]
  },
  {
   "attachments": {},
   "cell_type": "markdown",
   "metadata": {},
   "source": [
    "## Part I: Order of operations (BEDMAS)\n",
    "Perhaps of upmost importance in maths is following the order of operations. There is no inherent law of universe saying that we need to follow this convention (i.e. the universe will not end if we follow SAMDEB instead), it is just a way that all mathematicians agree upon so that they can understand each other's working out. It is entirely possible that in an alternate universe that we followed SAMDEB instead and that is perfectly fine."
   ]
  },
  {
   "attachments": {},
   "cell_type": "markdown",
   "metadata": {},
   "source": [
    "This should be a trivial concept to understand, but should not be overlooked. When applying BEDMAS we first look for the innermost bracket and deal with any exponentials within it. Then we deal with any division or multiplication from left to right as they occur. And finally we deal with any addition or subtraction, once again from left to right as they occur. Once the expression within that bracket has been solved, we can move out to the next set of brackets and repeat. Note that a number before a bracket without any operation is implied to be a multiplication. It also does not matter what type of bracket we use, sometimes we use different ones so that it is easier to see where each set of brackets ends.\n",
    "\n",
    "Let's now do an example. In fact let's make it a bit crazy to truly understand the beauty of it. I have tried to add comments where possible to assist you in understanding the working out and also underlined the part which we are evaluating.\n",
    "\n",
    "### Example\n",
    "$3+[4(3+2\\times \\underline{4^2}\\div 8)^3-\\sqrt{4}\\times 3]\\div 2$: first deal with exponent in the inner most bracket \\\n",
    "$=3+[4(3+\\underline{2\\times 16}\\div 8)^3-\\sqrt{4}\\times 3]\\div 2$: perform division and multiplication from left to right \\\n",
    "$=3+[4(3+\\underline{32\\div 8})^3-\\sqrt{4}\\times 3]\\div 2$ \\\n",
    "$=3+[4(\\underline{3+4})^3-\\sqrt{4}\\times 3]\\div 2$ \\\n",
    "$=3+[4\\underline{(7)^3}-\\sqrt{4}\\times 3]\\div 2$: we only cube the value inside the bracket and recall that there is a multiplication between the 4 and the bracket \\\n",
    "$=3+[4\\times 343-\\underline{\\sqrt{4}}\\times 3]\\div 2$: square roots are treated like exponentials in BEDMAS  \\\n",
    "$=3+[\\underline{4\\times 343} -\\underline{2\\times 3}]\\div 2$: you can start doing multiple steps at once if you are comfortable \\\n",
    "$=3+[\\underline{1372-6}]\\div 2$ \\\n",
    "$=3+\\underline{[1366]\\div 2}$ \\\n",
    "$=\\underline{3+683}$ \\\n",
    "$=686$"
   ]
  },
  {
   "attachments": {},
   "cell_type": "markdown",
   "metadata": {},
   "source": [
    "## Part II: Fractions\n",
    "Hopefully you should already be familiar with the concept of a fraction written in the form $\\frac{numerator}{denominator}$. In fact, fractions can also be thought of as division with the numerator being the dividend and the denominator being the divisor (i.e. $numerator \\div denominator$)."
   ]
  },
  {
   "attachments": {},
   "cell_type": "markdown",
   "metadata": {},
   "source": [
    "We begin our discussion of fractions by talking about multiplying them, which is perhaps the simplest operation. When multiplying fractions we simply multiply the numerators together and the denominators together. If possible, simplify before multiplying, but doing it afterwards is also fine.\n",
    "\n",
    "### Example\n",
    "$\\frac{3}{4}\\times \\frac{8}{5} \\times \\frac{3}{10}$ \\\n",
    "$=\\frac{3\\times 8 \\times 3}{4\\times 5 \\times 10}$: multiply numerators together and denominators together\\\n",
    "$=\\frac{72}{200}$: perform simplification, it's OK to use multiple steps \\\n",
    "$=\\frac{36}{100}$ \\\n",
    "$=\\frac{18}{50}$ \\\n",
    "$=\\frac{9}{25}$"
   ]
  },
  {
   "attachments": {},
   "cell_type": "markdown",
   "metadata": {},
   "source": [
    "Now consider division by fractions. When dividing fractions, we flip the second fraction and turn the division into a multiplication. Note that the grown up way of saying 'flip' is the reciprocal. While this may seem counterintuitive, we can think of it in this way - if we wanted to find how many halves go into a whole we know this is just twice (i.e two halves equals a whole). Two is just the flipped version of a half and we can generalise this to any fraction.\n",
    "\n",
    "### Example\n",
    "$\\frac{4}{3} \\div \\frac{5}{6} \\div 3$ \\\n",
    "$=\\frac{4}{3} \\times \\frac{6}{5} \\div \\frac{3}{1}$: remember that $3=\\frac{3}{1}$ \\\n",
    "$=\\frac{4}{3} \\times \\frac{6}{5} \\times \\frac{1}{3}$: now we can just apply what we learnt before from multiplying fractions\\\n",
    "$=\\frac{4 \\times 6 \\times 1}{3\\times 5\\times 3}$ \\\n",
    "$=\\frac{24}{45}$ \\\n",
    "$=\\frac{8}{15}$\n"
   ]
  },
  {
   "attachments": {},
   "cell_type": "markdown",
   "metadata": {},
   "source": [
    "With what we have learnt from multiplication and division, we can finally discuss about adding and subtracting fractions. When adding or subtracting fractions the key thing to remember is that we need a common denominator. Let's think about an analogy to why we need this to be the case. If I was trying to add 1cm and 1mm (both of which are fractions of a metre), I can't simply make my answer 2 because well 2-what? 2cm? 2mm? The answer no longer makes any sense. We would first have to convert everything to the same units (i.e. cm, mm, m, etc) to do this correctly, and in the same way we need to have a common denominator which is equal to the LCM of the denominators.\n",
    "\n",
    "### Example"
   ]
  },
  {
   "attachments": {},
   "cell_type": "markdown",
   "metadata": {},
   "source": [
    "When working with fractions, we often encounter mixed and improper fractions. Mixed fractions are particularly useful for visualising the result while improper fractions are more suited for doing calculations in. The key aspect to remember is that if I have something like $1\\frac{2}{3}$ this is the same as saying $1+\\frac{2}{3}$ (or 1 with a little $\\frac{2}{3}$ extra).\n",
    "\n",
    "### Example"
   ]
  },
  {
   "attachments": {},
   "cell_type": "markdown",
   "metadata": {},
   "source": [
    "## Part III: Percentages and decimals"
   ]
  },
  {
   "attachments": {},
   "cell_type": "markdown",
   "metadata": {},
   "source": [
    "Continuing on our discussion from fractions, we can also represent numbers as percentages or decimals. Each form has its own particular use (e.g. fractions for calculations, decimals for visualisation, percentages for statitistics) so we must learn how to convert between them."
   ]
  },
  {
   "attachments": {},
   "cell_type": "markdown",
   "metadata": {},
   "source": [
    "Let's first consider how to convert from fractions. If we want to convert to percentages, we simply multiply our fraction by 100% (another of thinking about this is what fraction of a whole 100% do we have). If we want to convert to decimals, we need to remember that fractions were the same as division, so we just need to do some division.\n",
    "\n",
    "### Example\n",
    "|Fraction $\\rightarrow$ Percentage|Fraction $\\rightarrow$ Decimal|\n",
    "|---|---|\n",
    "|$\\frac{3}{4}=\\frac{3}{4}\\times 100\\%=75\\%$ | $\\frac{3}{4}=3\\div 4=0.75$|"
   ]
  },
  {
   "attachments": {},
   "cell_type": "markdown",
   "metadata": {},
   "source": [
    "Now consider how to covert from percentage. If we want to convert to a fraction we simply write our percentage over 100% and simplify. If we want to convert to a decimal we divide our percentage by 100%.\n",
    "\n",
    "### Example\n",
    "|Percentage $\\rightarrow$ Fraction|Percentage $\\rightarrow$ Decimal|\n",
    "|---|---|\n",
    "|$45\\%=\\frac{45\\%}{100\\%}=\\frac{9}{20}$ | $45\\%=45\\% \\div 100\\%=0.45$|\n"
   ]
  },
  {
   "attachments": {},
   "cell_type": "markdown",
   "metadata": {},
   "source": [
    "Finally we consider how to convert from decimals. If we want to convert to fractions, write the decimal as a fraction over 1 and multiply by powers of 10 (i.e. shift decimal place) until the decimal is a whole number. If we want to convert to a percentage, simply multiply the decimal by 100%.\n",
    "\n",
    "### Example\n",
    "|Decimal $\\rightarrow$ Fraction|Decimal $\\rightarrow$ Percentage|\n",
    "|---|---|\n",
    "|$0.68=\\frac{0.68}{1}\\times \\frac{100}{100}=\\frac{68}{100}=\\frac{17}{25}$ | $0.68=0.68\\times 100\\%=68\\%$|"
   ]
  },
  {
   "attachments": {},
   "cell_type": "markdown",
   "metadata": {},
   "source": [
    "## Part IV: Ratios and rates\n",
    "An often overlooked part in high school mathematics is a concept called dimensional analysis. It may sound intimidating, but I assure you that familiarising yourself with it will help greatly when you are stuck on a question."
   ]
  },
  {
   "attachments": {},
   "cell_type": "markdown",
   "metadata": {},
   "source": [
    "Let's suppose that you are asked to work out the speed of a moving car and you are given the distance travelled and time taken. Students have asked me on numerous equations for the formula when this is in fact something they can come up with themselves and don't need to memorise. First, consider what speed is measured in - kilometres per hour, metres per second, or even miles per hour if you unashamedly use imperial units. Now consider what that means - km is a distance, per means some sort of division, and hour is some amount of time. Putting it all together we see that we have speed=distance/time."
   ]
  },
  {
   "attachments": {},
   "cell_type": "markdown",
   "metadata": {},
   "source": [
    "## Part V: HCF and LCM\n",
    "HCF (highest common factor) and LCM (lowest common multiple)"
   ]
  },
  {
   "attachments": {},
   "cell_type": "markdown",
   "metadata": {},
   "source": [
    "When trying to determine the HFC, we should do a perform a prime factorisation (i.e. factor tree) of our numbers, then build the HCF by selecting the smallest power of each prime."
   ]
  },
  {
   "attachments": {},
   "cell_type": "markdown",
   "metadata": {},
   "source": [
    "When trying to determine the LCM, we should do a perform a prime factorisation (i.e. factor tree) of our numbers, then build the LCM by selecting the largest power of each prime. Alternative we can multiply our numbers together and divide by the HCF. Or we could use the table method."
   ]
  }
 ],
 "metadata": {
  "kernelspec": {
   "display_name": "Python 3.11.1 64-bit",
   "language": "python",
   "name": "python3"
  },
  "language_info": {
   "name": "python",
   "version": "3.11.1 (tags/v3.11.1:a7a450f, Dec  6 2022, 19:58:39) [MSC v.1934 64 bit (AMD64)]"
  },
  "orig_nbformat": 4,
  "vscode": {
   "interpreter": {
    "hash": "50960f54838e9640ad01c2a0595617c9fe7774187d8f22105a75178c14caeec3"
   }
  }
 },
 "nbformat": 4,
 "nbformat_minor": 2
}
