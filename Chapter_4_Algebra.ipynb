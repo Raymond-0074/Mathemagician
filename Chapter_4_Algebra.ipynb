{
 "cells": [
  {
   "cell_type": "markdown",
   "metadata": {},
   "source": [
    "# Chapter 4: Algebra"
   ]
  },
  {
   "attachments": {},
   "cell_type": "markdown",
   "metadata": {},
   "source": [
    "## Part I: Variables and setting up the equation\n",
    "The most important step of solving algebraic equations is setting up the right equation, or in other words, converting the written question into a mathematical form. Students often call me over for help to solve something without even having attempted to set up the equation. You simply can't solve an algebraic equation by staring at the words. "
   ]
  },
  {
   "attachments": {},
   "cell_type": "markdown",
   "metadata": {},
   "source": [
    "### Example\n",
    "*It costs $0.25 for each kilometre I travel by taxi and they also charge me a flat $1.30 rate just for getting on regardless of the distance I travel. If I have $20, how far can I travel?* \\\n",
    "$Cost=0.25\\times Distance+1.30$\n",
    "\n",
    "### Example\n",
    "*My watermelon weighs 20kg and is 99% water. How much water will need to evaporate for it to be 98% water? My watermelon weighs 20kg and is 99% water. How much water will need to evaporate for it to be 98% water?*\n",
    "$\\frac{weight_{water}}{weight_{total}}=\\frac{0.99\\times 20-x}{20-x}=0.98$\n"
   ]
  },
  {
   "attachments": {},
   "cell_type": "markdown",
   "metadata": {},
   "source": [
    "## Part II: Solving for the unknown\n",
    "To approach solving simple algebraic equations, I have devised two ways of thinking about them. The first way was inspired by what is known as a 'stack' in computer science, while the second way also based on a computer science concept known as 'divide and conqueor'."
   ]
  },
  {
   "attachments": {},
   "cell_type": "markdown",
   "metadata": {},
   "source": [
    "## Part III: Advanced questions\n",
    "The examples in the previous part did not explore what happens when we have multiple x values scattered around or when x is in an awkward position."
   ]
  },
  {
   "attachments": {},
   "cell_type": "markdown",
   "metadata": {},
   "source": [
    "## Part IV: Inequalities"
   ]
  }
 ],
 "metadata": {
  "kernelspec": {
   "display_name": "Python 3",
   "language": "python",
   "name": "python3"
  },
  "language_info": {
   "name": "python",
   "version": "3.11.1 (tags/v3.11.1:a7a450f, Dec  6 2022, 19:58:39) [MSC v.1934 64 bit (AMD64)]"
  },
  "orig_nbformat": 4,
  "vscode": {
   "interpreter": {
    "hash": "50960f54838e9640ad01c2a0595617c9fe7774187d8f22105a75178c14caeec3"
   }
  }
 },
 "nbformat": 4,
 "nbformat_minor": 2
}
