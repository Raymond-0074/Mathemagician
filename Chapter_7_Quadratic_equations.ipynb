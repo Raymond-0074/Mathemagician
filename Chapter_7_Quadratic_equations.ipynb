{
 "cells": [
  {
   "attachments": {},
   "cell_type": "markdown",
   "metadata": {},
   "source": [
    "# Chapter 7: Quadratic Equations"
   ]
  },
  {
   "attachments": {},
   "cell_type": "markdown",
   "metadata": {},
   "source": [
    "## Part I: Expanding brackets\n",
    "Expanding brackets means that we are trying to multiply everything within a bracket by whatever is next to the bracket on the outside."
   ]
  },
  {
   "attachments": {},
   "cell_type": "markdown",
   "metadata": {},
   "source": [
    "We begin with a simple example with only one term outside the bracket and simply multiply that term with everything inside separately.\n",
    "\n",
    "### Example\n",
    "$-3(2x-5)+ 1 $ \\\n",
    "$=-3\\times (2x-5) + 1$ \\\n",
    "$=(-3\\times 2x) + (- 3\\times -5) + 1$: beware of the negatives and the 1 outside the bracket does not get multiplied \\\n",
    "$=-6x+15+1$: negative times negative is positive \\\n",
    "$=-6x+16$"
   ]
  },
  {
   "attachments": {},
   "cell_type": "markdown",
   "metadata": {},
   "source": [
    "Now we consider what to do when we have two sets of brackets multiplied by each other. In these cases we use the acryonym FOIL:\n",
    "- First - multiply the first term in each bracket together\n",
    "- Outer - mutiply the terms on the far left and far right together\n",
    "- Inner - multiply the innermost terms together\n",
    "- Latter - multiply the last term in each bracket together\n",
    "\n",
    "### Example\n",
    "$(3x+1)(4x+2)$ \\\n",
    "$=F+O+I+L$ \\\n",
    "$=(3x\\times 4x) + (3x\\times 2) + (1\\times 4x) + (1\\times 2)$: each set of brackets represents one part of FOIL \\\n",
    "$=12x^2 + 6x + 4x + 2$ \\\n",
    "$=12x^2 + 10x + 2$"
   ]
  },
  {
   "attachments": {},
   "cell_type": "markdown",
   "metadata": {},
   "source": [
    "Don't worry if we have more brackets with more terms, just remember we need to multiply each term in each bracket with each term in the other bracket.\n",
    "\n",
    "### Example\n",
    "$(a+b)(c+d)(e+f)$ \\\n",
    "$=(F+O+I+L)(e+f)$: apply foil for first two brackets \\\n",
    "$=(a\\times c + a\\times d + b\\times c + b\\times d)(e+f)$ \\\n",
    "$=(ac + ad + bc + bd)(e+f)$: now for extended FOIL \\\n",
    "$=ac\\times e + ac\\times f + ad\\times e + ad\\times f + bc\\times e + bc\\times f + bd\\times e + bd\\times f$ \\\n",
    "$=ace + acf + ade + adf + bce + bcf + bde + bdf$\n",
    "\n",
    "If it helps, you can think of the second expansion using a grid as follows:\n",
    "\n",
    "|$\\times$|$ac$|$ad$|$bc$|$bd$|\n",
    "|---|---|---|---|---|\n",
    "|$e$|$ace$|$ade$|$bce$|$bde$|\n",
    "|$f$|$acf$|$adf$|$bcf$|$bdf$|"
   ]
  },
  {
   "attachments": {},
   "cell_type": "markdown",
   "metadata": {},
   "source": [
    "## Part II: Factorising monic quadratics\n",
    "Factorising is pretty much doing the opposite of expanding, but involves a few more complicated steps. We will start of with the simple case where there is no coefficient behind the $x^2$, in other words it is of the form $x^2+bx+c$."
   ]
  },
  {
   "attachments": {},
   "cell_type": "markdown",
   "metadata": {},
   "source": [
    "We begin with an example that only requires one set of brackets. The key behind factorising is to multiply and divide by the factor we are taking out, this way we can avoid making mistakes.\n",
    "\n",
    "### Example\n",
    "$x^2 + 3x$ \\\n",
    "$=x\\times \\frac{(x^2 + 3x)}{x}$: the $x$ in the front and denominator cancel each other out, so the expression is still technically the same \\\n",
    "$=x(\\frac{x^2}{x} + \\frac{3x}{x})$: we can separate out our fractions if it helps with cancelling \\\n",
    "$=x(x+3)$"
   ]
  },
  {
   "attachments": {},
   "cell_type": "markdown",
   "metadata": {},
   "source": [
    "Now we will consider what happens if we need a second set of brackets in order to factorise $x^2+bx+c$. We will need to find a pair of numbers that multiply to give $c$ (originating from Latter in FOIL), and add to give $b$ (originating from Outer+Inner in FOIL). It is easiest to begin with the factors of $c$ and seeing what combination gives $b$ when added or subtracted.\n",
    "\n",
    "### Example\n",
    "$x^2 - 1x - 12$ \\\n",
    "The factors of 12 are $(1\\& 12),(2\\& 6),(3\\& 4)$. Out of these pairs we know that $3-4=-1$ and $3\\times -4=-12$. We can directly skip to the final step once we know this pair of numbers, but here is the proper way to factorise: \\\n",
    "$x^2-x-12$ \\\n",
    "$=x^2 - 4x + 3x - 12$: split $-x$ into $-4x+3x$ (the pair of numbers we found above) \\\n",
    "$=x\\times \\frac{(x^2 - 4x)}{x} + 3\\times \\frac{(3x - 12)}{3}$: factorise the first two terms and last two terms separately like we did in the previous example \\\n",
    "$=x(x-4) + 3(x-4)$ \\\n",
    "$=(x-4)\\times \\frac{(x(x-4) + 3(x-4))}{(x-4)}$: now factorise out the $(x-4)$ \\\n",
    "$=(x-4)(x+3)$"
   ]
  },
  {
   "attachments": {},
   "cell_type": "markdown",
   "metadata": {},
   "source": [
    "## Part III: Factorising non-monic quadratics\n",
    "We now consider what happens when there is a value in front of the $x^2$, in other words the quadratic equation is of the form $ax^2 + bx + c$. It is quite similar to what we did above, but will require a few additional steps."
   ]
  },
  {
   "attachments": {},
   "cell_type": "markdown",
   "metadata": {},
   "source": [
    "In this case we will need to find a pair of numbers that multiply to give $a\\times c$ (originating from Latter in FOIL), and add to give $b$ (originating from Outer+Inner in FOIL). It is easiest to begin with the factors of $a\\times c$ and seeing what combination gives $b$ when added or subtracted.\n",
    "\n",
    "### Example\n",
    "$6x^2 - 5x - 4$ \\\n",
    "The factors of $6\\times 4=24$ are $(1\\&24),(2\\&12),(3\\&8),(4\\&6)$. Out of these pairs we know that $3-8=-5$ and $3\\times -8=-24$. In this case, we cannot simply jump to the last step as we did before, instead we need to properly run through the factorising process. \\\n",
    "$6x^2 - 5x - 4$ \\\n",
    "$=6x^2 + 3x - 8x - 4$: split $-5x$ into $3x-8x$ (the pair of numbers we found above) \\\n",
    "$=3x\\times \\frac{(6x^2+3x)}{3x} - 4\\times \\frac{(-8x-4)}{-4}$: factorise the first two terms and last two terms separately like we did in the previous example \\\n",
    "$=3x(2x+1)-4(2x+1)$: be careful of the negatives \\\n",
    "$=(2x+1)\\times \\frac{(3x(2x+1)-4(2x+1))}{(2x+1)}$: now factorise out the $(2x+1)$ \\\n",
    "$=(2x+1)(3x-4)$\n",
    "\n",
    "#### Reasoning\n",
    "You are not required to know this, but it may help with understanding where all the pieces are coming from. Consider expanding the following using FOIL: \\\n",
    "$(dx+e)(fx+g)$ \\\n",
    "$=dfx^2 + dgx + efx + eg$ \\\n",
    "$=dfx^2 + (dg+ef)x + eg$: factorise $x$ terms \\\n",
    "If we compare it to the form $ax^2 + bx + c$ we can say that: \\\n",
    "$a=df$ \\\n",
    "$b=dg+ef$ \\\n",
    "$c=eg$ \\\n",
    "By doing $a\\times c=df\\times eg=dg\\times ef$ since the order of multiplication doesn't matter, we see that we get the values held within $b$ (i.e. $dg$ and $ef$). These are precisely the pair of values that we want to multiply to give $a\\times c$ and add to give $b$."
   ]
  },
  {
   "attachments": {},
   "cell_type": "markdown",
   "metadata": {},
   "source": [
    "## Part IV: Quadratic formula\n",
    "There are times when we get stuck on factorising, and it is not your fault (unless you have made a mistake). It is because the factors a fractions (who would have guessed), or worse, irrational numbers. To solve this, we require the quadratic equation."
   ]
  },
  {
   "attachments": {},
   "cell_type": "markdown",
   "metadata": {},
   "source": [
    "The quadratic formula allows us to solve for the x-intercepts of a parabola of the form $ax^2+bx+c$. It is just a simple case of plug-and-chug into the formula $x=\\frac{-b\\pm \\sqrt{b^2-4ac}}{2a}$.\n",
    "\n",
    "### Example\n",
    "$3x^2 + 6x + 2 = 0$ \\\n",
    "$x=\\frac{-6\\pm \\sqrt{6^2-4\\times 3\\times 2}}{2\\times 3}$: plug (substitute) \\\n",
    "$x=\\frac{-6\\pm \\sqrt{36-24}}{6}$: chug (calculate) \\\n",
    "$x=\\frac{-6\\pm \\sqrt{12}}{6}$ \\\n",
    "$x=\\frac{-6\\pm 2\\sqrt{3}}{6}$: simplify surds \\\n",
    "$x=\\frac{-3\\pm \\sqrt{3}}{3}$: this is fine as a final answer \\\n",
    "$x=-1\\pm \\frac{\\sqrt{3}}{3}$: in case you like mixed fractions \\\n",
    "$x\\approx -0.423...\\&-1.577...$: in case you like decimals"
   ]
  }
 ],
 "metadata": {
  "kernelspec": {
   "display_name": "Python 3",
   "language": "python",
   "name": "python3"
  },
  "language_info": {
   "name": "python",
   "version": "3.11.1 (tags/v3.11.1:a7a450f, Dec  6 2022, 19:58:39) [MSC v.1934 64 bit (AMD64)]"
  },
  "orig_nbformat": 4,
  "vscode": {
   "interpreter": {
    "hash": "50960f54838e9640ad01c2a0595617c9fe7774187d8f22105a75178c14caeec3"
   }
  }
 },
 "nbformat": 4,
 "nbformat_minor": 2
}
